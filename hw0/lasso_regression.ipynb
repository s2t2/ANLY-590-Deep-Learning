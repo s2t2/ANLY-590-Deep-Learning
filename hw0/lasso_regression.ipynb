{
 "cells": [
  {
   "cell_type": "markdown",
   "metadata": {},
   "source": [
    "Use LASSO regression to predict Salary from the other numeric predictors (you should omit the categorical predictors). Create a visualization of the coefficient trajectories. Comment on which are the final three predictors that remain in the model. Use cross-validation to find the optimal value of the regularization penality. How many predictors are left in that model?"
   ]
  },
  {
   "cell_type": "code",
   "execution_count": 160,
   "metadata": {},
   "outputs": [],
   "source": [
    "import matplotlib.pyplot as plt\n",
    "\n",
    "import sys, os\n",
    "import numpy as np\n",
    "import pandas as pd\n",
    "\n",
    "from sklearn import linear_model\n",
    "from sklearn.metrics import mean_squared_error\n",
    "from sklearn.model_selection import KFold"
   ]
  },
  {
   "cell_type": "code",
   "execution_count": 161,
   "metadata": {},
   "outputs": [],
   "source": [
    "# Read data from file 'Hitters.csv' \n",
    "# (in the same directory that your python process is based)\n",
    "# Control delimiters, rows, column names with read_csv (see later)\n",
    "data = pd.read_csv(\"Hitters.csv\")"
   ]
  },
  {
   "cell_type": "code",
   "execution_count": 162,
   "metadata": {},
   "outputs": [
    {
     "name": "stdout",
     "output_type": "stream",
     "text": [
      "          Unnamed: 0  AtBat  Hits  HmRun  Runs  RBI  Walks  Years  CAtBat  \\\n",
      "0     -Andy Allanson    293    66      1    30   29     14      1     293   \n",
      "1        -Alan Ashby    315    81      7    24   38     39     14    3449   \n",
      "2       -Alvin Davis    479   130     18    66   72     76      3    1624   \n",
      "3      -Andre Dawson    496   141     20    65   78     37     11    5628   \n",
      "4  -Andres Galarraga    321    87     10    39   42     30      2     396   \n",
      "\n",
      "   CHits    ...      CRuns  CRBI  CWalks  League Division PutOuts  Assists  \\\n",
      "0     66    ...         30    29      14       A        E     446       33   \n",
      "1    835    ...        321   414     375       N        W     632       43   \n",
      "2    457    ...        224   266     263       A        W     880       82   \n",
      "3   1575    ...        828   838     354       N        E     200       11   \n",
      "4    101    ...         48    46      33       N        E     805       40   \n",
      "\n",
      "   Errors  Salary  NewLeague  \n",
      "0      20     NaN          A  \n",
      "1      10   475.0          N  \n",
      "2      14   480.0          A  \n",
      "3       3   500.0          N  \n",
      "4       4    91.5          N  \n",
      "\n",
      "[5 rows x 21 columns]\n"
     ]
    }
   ],
   "source": [
    "# Preview the first 5 lines of the loaded data \n",
    "print(data.head())"
   ]
  },
  {
   "cell_type": "code",
   "execution_count": 163,
   "metadata": {},
   "outputs": [],
   "source": [
    "# Extract only numeric columns\n",
    "numeric_col_idx = []\n",
    "for idx, t in enumerate(data.dtypes):\n",
    "    if str(t) in [\"int64\", \"float64\"]:\n",
    "        numeric_col_idx.append(idx)\n",
    "    numeric_data = data.iloc[:,numeric_col_idx]"
   ]
  },
  {
   "cell_type": "code",
   "execution_count": 164,
   "metadata": {},
   "outputs": [],
   "source": [
    "# Remove NaN data\n",
    "numeric_data = numeric_data.dropna()"
   ]
  },
  {
   "cell_type": "code",
   "execution_count": 165,
   "metadata": {},
   "outputs": [
    {
     "name": "stdout",
     "output_type": "stream",
     "text": [
      "   AtBat  Hits  HmRun  Runs  RBI  Walks  Years  CAtBat  CHits  CHmRun  CRuns  \\\n",
      "1    315    81      7    24   38     39     14    3449    835      69    321   \n",
      "2    479   130     18    66   72     76      3    1624    457      63    224   \n",
      "3    496   141     20    65   78     37     11    5628   1575     225    828   \n",
      "4    321    87     10    39   42     30      2     396    101      12     48   \n",
      "5    594   169      4    74   51     35     11    4408   1133      19    501   \n",
      "\n",
      "   CRBI  CWalks  PutOuts  Assists  Errors  Salary  \n",
      "1   414     375      632       43      10   475.0  \n",
      "2   266     263      880       82      14   480.0  \n",
      "3   838     354      200       11       3   500.0  \n",
      "4    46      33      805       40       4    91.5  \n",
      "5   336     194      282      421      25   750.0  \n"
     ]
    }
   ],
   "source": [
    "# Preview the first 5 lines\n",
    "print(numeric_data.head())"
   ]
  },
  {
   "cell_type": "code",
   "execution_count": 166,
   "metadata": {},
   "outputs": [],
   "source": [
    "# Prepare data\n",
    "X = numeric_data.iloc[:,:-1]\n",
    "Y = numeric_data.iloc[:,-1]"
   ]
  },
  {
   "cell_type": "code",
   "execution_count": 167,
   "metadata": {},
   "outputs": [
    {
     "name": "stdout",
     "output_type": "stream",
     "text": [
      "Record number: 263\n"
     ]
    }
   ],
   "source": [
    "# Show data size\n",
    "print(\"Record number: \" + str(len(Y)))"
   ]
  },
  {
   "cell_type": "code",
   "execution_count": 168,
   "metadata": {},
   "outputs": [],
   "source": [
    "# LASSO test with different alphas\n",
    "lasso = linear_model.Lasso(max_iter = 10000, normalize=True)"
   ]
  },
  {
   "cell_type": "code",
   "execution_count": 169,
   "metadata": {},
   "outputs": [
    {
     "name": "stdout",
     "output_type": "stream",
     "text": [
      "The last three features are AtBat, Hits, HmRun\n"
     ]
    }
   ],
   "source": [
    "# Try several alphas\n",
    "coefs = []\n",
    "alphas = np.logspace(-3, 3, 200)\n",
    "\n",
    "is_print = False\n",
    "for a in alphas:\n",
    "    lasso.set_params(alpha=a)\n",
    "    lasso.fit(X, Y)\n",
    "    coefs.append(lasso.coef_)\n",
    "\n",
    "    # Check the last three features left\n",
    "    if len([ c for c in lasso.coef_ if c != 0 ]) == 3 and not is_print:\n",
    "        last_three_feature = []\n",
    "        for idx, c in enumerate([ c for c in lasso.coef_ if c != 0 ]):\n",
    "            last_three_feature.append(list(X)[idx])\n",
    "        print(\"The last three features are \" + \", \".join(last_three_feature))\t# AtBat, Hits, HmRun\n",
    "        is_print = True"
   ]
  },
  {
   "cell_type": "code",
   "execution_count": 170,
   "metadata": {},
   "outputs": [
    {
     "data": {
      "text/plain": [
       "<matplotlib.text.Text at 0x10d1f3cc0>"
      ]
     },
     "execution_count": 170,
     "metadata": {},
     "output_type": "execute_result"
    },
    {
     "data": {
      "image/png": "[encoded data removed]",
      "text/plain": [
       "<matplotlib.figure.Figure at 0x10cbd8278>"
      ]
     },
     "metadata": {
      "needs_background": "light"
     },
     "output_type": "display_data"
    }
   ],
   "source": [
    "# Plot alpha-coefficient relation\n",
    "plt.figure(figsize=(10, 6))\n",
    "ax = plt.gca()\n",
    "ax.plot(alphas, coefs)\n",
    "ax.set_xscale('log')\n",
    "plt.xlabel('alpha')\n",
    "plt.ylabel('weights')\n",
    "plt.axis('tight')\n",
    "plt.title('LASSO coefficients as a function of the regularization')"
   ]
  },
  {
   "cell_type": "code",
   "execution_count": 171,
   "metadata": {},
   "outputs": [
    {
     "name": "stdout",
     "output_type": "stream",
     "text": [
      "0.0635481759986\n"
     ]
    }
   ],
   "source": [
    "# Find the optimal alpha by cross-validation\n",
    "lassocv = linear_model.LassoCV(alphas=None, cv=10, max_iter=100000, normalize=True)\n",
    "lassocv.fit(X, Y)\n",
    "opitmal_alpha = lassocv.alpha_\n",
    "print(lassocv.alpha_)"
   ]
  },
  {
   "cell_type": "code",
   "execution_count": 172,
   "metadata": {},
   "outputs": [
    {
     "name": "stdout",
     "output_type": "stream",
     "text": [
      "[-2.08295369  7.04101066  0.         -0.68261512  0.49655158  5.51178063\n",
      " -6.10762506 -0.08706575  0.          0.15646752  1.22806115  0.58382084\n",
      " -0.69060051  0.29269419  0.30437223 -2.4507947 ]\n",
      "Feature number left in the model: 14\n"
     ]
    }
   ],
   "source": [
    "# Build model using the optimal alpha\n",
    "lasso.set_params(alpha=opitmal_alpha)\n",
    "lasso.fit(X, Y)\n",
    "\n",
    "# Check coefficients\n",
    "print(lasso.coef_)\n",
    "# Number of features left\n",
    "print(\"Feature number left in the model: \" + str(len([ x for x in lasso.coef_ if x != 0 ])))"
   ]
  },
  {
   "cell_type": "code",
   "execution_count": 173,
   "metadata": {},
   "outputs": [
    {
     "name": "stdout",
     "output_type": "stream",
     "text": [
      "MSE: 96243.08961334323\n"
     ]
    }
   ],
   "source": [
    "# Check MSE for optimal alpha\n",
    "y_pred = lasso.predict(X)\n",
    "mse = mean_squared_error(Y, y_pred)\n",
    "print(\"MSE: {0}\".format(mse))"
   ]
  },
  {
   "cell_type": "code",
   "execution_count": 174,
   "metadata": {},
   "outputs": [],
   "source": [
    "# Plot MSE-alpha relationship\n",
    "# Get both training MSE and validaiton MSE for each alpha\n",
    "\n",
    "train_error_list = []\n",
    "test_error_list = []\n",
    "error_list = []\n",
    "\n",
    "for a in alphas:\n",
    "    # Sum of errors\n",
    "    sum_train_mse = 0\n",
    "    sum_test_mse = 0\n",
    "    \n",
    "    # Use 10-Fold cross validation for more reliability\n",
    "    kf = KFold(n_splits=10)\n",
    "    \n",
    "    for train_index, test_index in kf.split(X):\n",
    "        x_train, x_test = X.iloc[train_index], X.iloc[test_index]\n",
    "        y_train, y_test = Y.iloc[train_index], Y.iloc[test_index]\n",
    "        \n",
    "        # Build model\n",
    "        lasso.set_params(alpha=a)\n",
    "        lasso.fit(x_train, y_train)\n",
    "        sum_train_mse += mean_squared_error(y_train, lasso.predict(x_train))\n",
    "        sum_test_mse += mean_squared_error(y_test, lasso.predict(x_test))\n",
    "    \n",
    "    # Get average of MSE of 10-Fold cross validation\n",
    "    train_mse = sum_train_mse / kf.get_n_splits(X,Y)\n",
    "    test_mse = sum_test_mse / kf.get_n_splits(X,Y)\n",
    "    \n",
    "    # Add to lists\n",
    "    train_error_list.append(train_mse)\n",
    "    test_error_list.append(test_mse)\n",
    "    error_list.append([train_mse,test_mse])"
   ]
  },
  {
   "cell_type": "markdown",
   "metadata": {},
   "source": [
    "Model complexity is reversed of alpha value. This means high alpha gives a simpler model, on the other hands, low alpha indicates more complex the model is."
   ]
  },
  {
   "cell_type": "code",
   "execution_count": 176,
   "metadata": {},
   "outputs": [
    {
     "data": {
      "text/plain": [
       "(0.00050118723362727296, 20)"
      ]
     },
     "execution_count": 176,
     "metadata": {},
     "output_type": "execute_result"
    },
    {
     "data": {
      "image/png": "[encoded data removed]",
      "text/plain": [
       "<matplotlib.figure.Figure at 0x10d15ad68>"
      ]
     },
     "metadata": {
      "needs_background": "light"
     },
     "output_type": "display_data"
    }
   ],
   "source": [
    "# Plot\n",
    "plt.figure(figsize=(10, 6))\n",
    "ax = plt.gca()\n",
    "ax.plot(alphas, error_list)\n",
    "ax.set_xscale('log')\n",
    "plt.xlabel('alpha')\n",
    "plt.ylabel('Train Error')\n",
    "plt.axis('tight')\n",
    "plt.title('Lasso: Train/Test Error - Alpha Relationship')\n",
    "plt.xlim(xmax=20)"
   ]
  }
 ],
 "metadata": {
  "kernelspec": {
   "display_name": "Python 3",
   "language": "python",
   "name": "python3"
  },
  "language_info": {
   "codemirror_mode": {
    "name": "ipython",
    "version": 3
   },
   "file_extension": ".py",
   "mimetype": "text/x-python",
   "name": "python",
   "nbconvert_exporter": "python",
   "pygments_lexer": "ipython3",
   "version": "3.6.2"
  }
 },
 "nbformat": 4,
 "nbformat_minor": 2
}
