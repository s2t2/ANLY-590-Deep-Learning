{
 "cells": [
  {
   "cell_type": "markdown",
   "metadata": {},
   "source": [
    "# Feedforward: Building a ReLu 2 Layer neuralnetwork #\n",
    "\n",
    "Previously we built a network where the hidden layer included a logistic trans-form.  Recall that logistic units have fallen from favor in deep networks becausethey  saturate  easily  and  are  not  zero-centered.   Rather  consider  the  rectifiedlinear activation function: h(j)= max(0,a(j))."
   ]
  },
  {
   "cell_type": "markdown",
   "metadata": {},
   "source": [
    "1. Plot (draw) a network with:"
   ]
  },
  {
   "cell_type": "markdown",
   "metadata": {},
   "source": [
    "* 2 inputs,\n",
    "* 2 hidden layers (where the first layer contains 3 hidden units and the second contains 2 hidden units) and a\n",
    "* 3-class output (use a softmax function)"
   ]
  },
  {
   "cell_type": "markdown",
   "metadata": {},
   "source": [
    "<img src=\"img/p1-a1-bias-node.png\" alt=\"drawing\" width=\"500\"/>\n"
   ]
  },
  {
   "cell_type": "markdown",
   "metadata": {},
   "source": [
    "2. Write out the mathematical equation for this network"
   ]
  },
  {
   "cell_type": "markdown",
   "metadata": {},
   "source": [
    "## Y = Softmax(W3 \\* ReLu(W2 \\* ReLU(W1 \\* X + b1) + b2) + b3)\n",
    "\n",
    "* I finished this problem before seeing the 4th problem so I used different notation for weights and biases\n",
    "* Also Y_hat cannot be displayed in markdown so I just simply use Y as Y_hat notation for now"
   ]
  },
  {
   "cell_type": "markdown",
   "metadata": {},
   "source": [
    "3. Write out the function in python, call it ff_nn_2_ReLu(...)"
   ]
  },
  {
   "cell_type": "code",
   "execution_count": 1,
   "metadata": {},
   "outputs": [],
   "source": [
    "import numpy as np\n",
    "\n",
    "def relu(x):\n",
    "    return np.maximum(x,0)\n",
    "\n",
    "def softmax(z):\n",
    "    return np.exp(z)/(np.sum(np.exp(z),axis=1))[:,np.newaxis]"
   ]
  },
  {
   "cell_type": "code",
   "execution_count": 2,
   "metadata": {},
   "outputs": [],
   "source": [
    "def ff_nn_2_ReLu(x, w_1, w_2, v, b_1, b_2, c):\n",
    "    \"\"\"\n",
    "    Feedforward Networks for 3-class classification using Softmax as activation function\n",
    "    There are 2 inputs, 2 hidden layers containing 3 and 2 hidden units\n",
    "    \"\"\"\n",
    "    h_1 = relu(np.dot(w_1, x) + b_1)\n",
    "    h_2 = relu(np.dot(w_2, h_1) + b_2)\n",
    "    y = softmax(np.dot(v, h_2) + c)\n",
    "\n",
    "    return np.array(y)"
   ]
  },
  {
   "cell_type": "markdown",
   "metadata": {},
   "source": [
    "Suppose you have the following set of weight matrices:\n",
    "<img src=\"img/p1-WV.png\" alt=\"drawing\" width=\"350\"/>\n",
    "and inputs:\n",
    "<img src=\"img/p1-X.png\" alt=\"drawing\" width=\"150\"/>\n",
    "\n",
    "4. what are the class probabilities associated with the forward pass of each\n",
    "sample?"
   ]
  },
  {
   "cell_type": "code",
   "execution_count": 3,
   "metadata": {},
   "outputs": [],
   "source": [
    "# Define weights and biases\n",
    "W_1 = np.array([1,0,-1,0,0,0.5]).reshape(3,2)\n",
    "W_2 = np.array([1,0,0,-1,-1,0]).reshape(2,3)\n",
    "V = np.array([1,1,0,0,-1,-1]).reshape(3,2)\n",
    "b_1 = np.array([0,0,1]).reshape(1,3).T\n",
    "b_2 = np.array([1,-1]).reshape(1,2).T\n",
    "c = np.array([1,0,0]).reshape(1,3).T\n",
    "\n",
    "# Inputs\n",
    "X = np.array([1,0,0,-1,-1,1]).reshape(2,3)"
   ]
  },
  {
   "cell_type": "code",
   "execution_count": 4,
   "metadata": {},
   "outputs": [
    {
     "data": {
      "text/plain": [
       "array([[0.57611688, 0.21194156, 0.21194156],\n",
       "       [0.33333333, 0.33333333, 0.33333333],\n",
       "       [0.1553624 , 0.4223188 , 0.4223188 ]])"
      ]
     },
     "execution_count": 4,
     "metadata": {},
     "output_type": "execute_result"
    }
   ],
   "source": [
    "ff_nn_2_ReLu(X, W_1, W_2, V, b_1, b_2, c)"
   ]
  }
 ],
 "metadata": {
  "kernelspec": {
   "display_name": "Python 3",
   "language": "python",
   "name": "python3"
  },
  "language_info": {
   "codemirror_mode": {
    "name": "ipython",
    "version": 3
   },
   "file_extension": ".py",
   "mimetype": "text/x-python",
   "name": "python",
   "nbconvert_exporter": "python",
   "pygments_lexer": "ipython3",
   "version": "3.6.2"
  }
 },
 "nbformat": 4,
 "nbformat_minor": 2
}
