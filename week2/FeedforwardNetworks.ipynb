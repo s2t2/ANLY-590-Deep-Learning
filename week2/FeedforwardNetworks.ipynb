{
 "cells": [
  {
   "cell_type": "code",
   "execution_count": 1,
   "metadata": {},
   "outputs": [],
   "source": [
    "import matplotlib.pyplot as plt\n",
    "%matplotlib inline\n",
    "import numpy as np"
   ]
  },
  {
   "cell_type": "code",
   "execution_count": 2,
   "metadata": {},
   "outputs": [],
   "source": [
    "#######################\n",
    "#   Helper functions  #\n",
    "#######################\n",
    "# Linear activation\n",
    "def a(x,w,b):\n",
    "    a_out = x.dot(w) + b\n",
    "    return a_out\n",
    "\n",
    "# Sigmoid function\n",
    "def sigmoid(z):\n",
    "    s = 1/(1+np.exp(-z))\n",
    "    return s\n",
    "\n",
    "# Logistic unit\n",
    "def logistic(x,w,b):\n",
    "    s = sigmoid(a(x,w,b))\n",
    "    y = np.round(s)\n",
    "    return np.array([y,s]).T"
   ]
  },
  {
   "cell_type": "markdown",
   "metadata": {},
   "source": [
    "Let's code up a 2-layer MLP. Our network will take in 2-dimensional input, will have a single hidden layer of 3 units, and will have a single output classification.\n",
    "\n",
    "We'll create randomized initial weights for our network."
   ]
  },
  {
   "cell_type": "code",
   "execution_count": 3,
   "metadata": {},
   "outputs": [],
   "source": [
    "###########################\n",
    "#Setting up dimensions of 2 Layer NN\n",
    "\n",
    "n_dims = 2\n",
    "n_hidden_units = 3\n",
    "\n",
    "# Settng up the weight parameters for Layer 1\n",
    "w_11, w_12, w_13, w_21, w_22, w_23 = np.random.random(n_dims * n_hidden_units)\n",
    "\n",
    "# Setting up weight parameters for Layer 2\n",
    "v_1,v_2,v_3 = np.random.random(n_hidden_units)\n",
    "\n",
    "# Random intializiation of the biases\n",
    "# Layer 1\n",
    "b_11,b_12,b_13 = np.random.random(n_hidden_units)\n",
    "b_1 = np.array([b_11,b_12,b_13])\n",
    "# Layer 2\n",
    "b_2 = np.random.random(1)\n",
    "\n",
    "# Restructing for ease of implementation\n",
    "w_1 = np.array([w_11,w_12,w_13])\n",
    "w_2 = np.array([w_21,w_22, w_23])\n",
    "#w_3 = np.array([w_31,w_32])\n",
    "\n",
    "w = np.array([w_1,w_2])\n",
    "v = np.array([v_1,v_2,v_3])  "
   ]
  },
  {
   "cell_type": "code",
   "execution_count": 4,
   "metadata": {},
   "outputs": [
    {
     "data": {
      "text/plain": [
       "array([[ 0.02571   ,  0.24787308,  0.48271118],\n",
       "       [ 0.13146063,  0.18589594,  0.41814734]])"
      ]
     },
     "execution_count": 4,
     "metadata": {},
     "output_type": "execute_result"
    }
   ],
   "source": [
    "w"
   ]
  },
  {
   "cell_type": "code",
   "execution_count": 5,
   "metadata": {},
   "outputs": [],
   "source": [
    "def feedforward_network_v1(x, w, v, b_1, b_2):\n",
    "    '''\n",
    "    A simple 2 layer neural network with sigmoid activation and binary output.\n",
    "    '''\n",
    "    # Setting up our output y\n",
    "    num_rows,num_columns = x.shape\n",
    "    y = np.zeros((num_rows))\n",
    "    \n",
    "    for i in range(num_rows):\n",
    "        x_i = x[i,:]\n",
    "        \n",
    "        # Linear activations into hidden units\n",
    "        a1 = x_i[0]*w[0,0] + x_i[1]*w[1,0] + b_1[0]\n",
    "        a2 = x_i[0]*w[0,1] + x_i[1]*w[1,1] + b_1[1]\n",
    "        a3 = x_i[0]*w[0,2] + x_i[1]*w[1,2] + b_1[2]\n",
    "        \n",
    "        # output of hidden units\n",
    "        h_1 = sigmoid(a1)\n",
    "        h_2 = sigmoid(a2)\n",
    "        h_3 = sigmoid(a3)\n",
    "        h = np.array([h_1,h_2,h_3])\n",
    "        \n",
    "        # Output of network\n",
    "        y[i] = sigmoid(h_1*v[0] + h_2*v[1] + h_3*v[2] + b_2)\n",
    "    \n",
    "    return np.array(y)\n"
   ]
  },
  {
   "cell_type": "code",
   "execution_count": 6,
   "metadata": {},
   "outputs": [],
   "source": [
    "# here's some randomized input data\n",
    "num_samples=50\n",
    "x = np.random.uniform(low=(-5.0), high=5.0, size=2*num_samples).reshape(num_samples,2)"
   ]
  },
  {
   "cell_type": "code",
   "execution_count": 7,
   "metadata": {},
   "outputs": [
    {
     "data": {
      "text/plain": [
       "array([ 0.82292514,  0.75988018,  0.75239936,  0.79952878,  0.76473833])"
      ]
     },
     "execution_count": 7,
     "metadata": {},
     "output_type": "execute_result"
    }
   ],
   "source": [
    "feedforward_network_v1(x[:5,:], w, v, b_1, b_2)"
   ]
  },
  {
   "cell_type": "markdown",
   "metadata": {},
   "source": [
    "Note that all of this arithmetic was done explicity by indexing into our weight matrixes and vectors. But we know we can accomplish the same thing with vector arithmetic. For the linear activations into a hidden unit, this weighted sum is the same as a dot product."
   ]
  },
  {
   "cell_type": "code",
   "execution_count": 8,
   "metadata": {},
   "outputs": [],
   "source": [
    "def feedforward_network_v2(x, w, v, b_1, b_2):\n",
    "    '''\n",
    "    A simple 2 layer neural network with sigmoid activation and binary output.\n",
    "    '''\n",
    "    # Setting up our output y\n",
    "    l,_ = x.shape\n",
    "    y = np.zeros((l))\n",
    "    \n",
    "    for i in range(l):\n",
    "        x_i = x[i,:]\n",
    "        # Setting up the hidden units\n",
    "        h_1 = sigmoid(a(x[i,:],w[:,0],b_1[0]))\n",
    "        h_2 = sigmoid(a(x[i,:],w[:,1],b_1[1]))\n",
    "        h_3 = sigmoid(a(x[i,:],w[:,2],b_1[2]))\n",
    "        h = np.array([h_1,h_2,h_3])\n",
    "        # Calculating the output\n",
    "        y[i] = sigmoid(a(h,v,b_2))\n",
    "    \n",
    "    return np.array(y)\n",
    "\n"
   ]
  },
  {
   "cell_type": "code",
   "execution_count": 9,
   "metadata": {},
   "outputs": [
    {
     "data": {
      "text/plain": [
       "array([ 0.82292514,  0.75988018,  0.75239936,  0.79952878,  0.76473833])"
      ]
     },
     "execution_count": 9,
     "metadata": {},
     "output_type": "execute_result"
    }
   ],
   "source": [
    "feedforward_network_v2(x[:5,:], w, v, b_1, b_2)"
   ]
  },
  {
   "cell_type": "markdown",
   "metadata": {},
   "source": [
    "Finally, note that we're using a for-loop to compute the forward pass for each input X. This can also be vectorized instead of using a loop. "
   ]
  },
  {
   "cell_type": "code",
   "execution_count": 10,
   "metadata": {},
   "outputs": [],
   "source": [
    "def feedforward_network_v3(x, w, v, b_1, b_2):\n",
    "    '''\n",
    "    A simple 2 layer neural network with sigmoid activation and binary output.\n",
    "    '''\n",
    "    \n",
    "    a = np.dot(x,w) + b_1\n",
    "    h = sigmoid(a)\n",
    "    y = sigmoid(np.dot(h,v) + b_2)\n",
    "\n",
    "    return np.array(y)\n"
   ]
  },
  {
   "cell_type": "code",
   "execution_count": 11,
   "metadata": {},
   "outputs": [
    {
     "data": {
      "text/plain": [
       "array([ 0.82292514,  0.75988018,  0.75239936,  0.79952878,  0.76473833])"
      ]
     },
     "execution_count": 11,
     "metadata": {},
     "output_type": "execute_result"
    }
   ],
   "source": [
    "feedforward_network_v3(x[:5,:], w, v, b_1, b_2)"
   ]
  },
  {
   "cell_type": "markdown",
   "metadata": {},
   "source": [
    "### Function Exploration"
   ]
  },
  {
   "cell_type": "markdown",
   "metadata": {},
   "source": [
    "We'll pick a simple 1D regression example: we are representing arbitrary functions y of x. So we have a scalar input and a scalar output. Let's explore what kinds of functions our neural net is able to produce.\n",
    "\n",
    "By drawing random weights, we'll visualize a particular \"setting\" of a neural net, to see what kind of functions are possible. \n",
    "\n",
    "Depending on the number of hidden nodes, and the strength of the weights, we'll find that we can represent some pretty complex functions with a neural net. "
   ]
  },
  {
   "cell_type": "code",
   "execution_count": 12,
   "metadata": {},
   "outputs": [],
   "source": [
    "def randomize_weights(num_hidden_nodes, input_dim=1, wt_scale=1):\n",
    "    w = wt_scale*np.random.randn(num_hidden_nodes*input_dim).reshape((input_dim, num_hidden_nodes))\n",
    "    v = wt_scale*np.random.randn(num_hidden_nodes)\n",
    "    h_bias = wt_scale*np.random.randn(num_hidden_nodes)\n",
    "    y_bias = wt_scale*np.random.randn(1) \n",
    "    return (w, v, h_bias, y_bias)"
   ]
  },
  {
   "cell_type": "code",
   "execution_count": 13,
   "metadata": {},
   "outputs": [
    {
     "data": {
      "text/plain": [
       "(0, 1)"
      ]
     },
     "execution_count": 13,
     "metadata": {},
     "output_type": "execute_result"
    },
    {
     "data": {
      "image/png": "[encoded data removed]",
      "text/plain": [
       "<matplotlib.figure.Figure at 0x10ee0b208>"
      ]
     },
     "metadata": {
      "needs_background": "light"
     },
     "output_type": "display_data"
    }
   ],
   "source": [
    "x=np.expand_dims(np.linspace(-20,20,250), 1)\n",
    "z = randomize_weights(3,wt_scale=1)\n",
    "y_pred = feedforward_network_v3(x, *z)\n",
    "plt.plot(x, y_pred)\n",
    "plt.ylim((0,1))"
   ]
  },
  {
   "cell_type": "markdown",
   "metadata": {},
   "source": [
    "## Exercise\n",
    "Code up the XOR network from Chapter 6 of the book. Use the weights provided on page 174 to compute the forward pass. Use a sigmoid for the activation function. What is the predicted output for each of the 4 observations of the XOR dataset?"
   ]
  },
  {
   "cell_type": "code",
   "execution_count": 14,
   "metadata": {},
   "outputs": [
    {
     "data": {
      "text/plain": [
       "array([ 0.49053042,  0.43316699,  0.43316699,  0.3586289 ])"
      ]
     },
     "execution_count": 14,
     "metadata": {},
     "output_type": "execute_result"
    }
   ],
   "source": [
    "# Set parameters based on the book page 174\n",
    "ex_x = []\n",
    "ex_x.append([0,0])\n",
    "ex_x.append([0,1])\n",
    "ex_x.append([1,0])\n",
    "ex_x.append([1,1])\n",
    "\n",
    "ex_w = np.array([1,1,1,1]).reshape(2,2)\n",
    "ex_v = np.array([1,-2])\n",
    "ex_b_1 = np.array([0,-1])\n",
    "ex_b_2 = np.array([0])\n",
    "\n",
    "feedforward_network_v3(ex_x, ex_w, ex_v, ex_b_1, ex_b_2)"
   ]
  },
  {
   "cell_type": "markdown",
   "metadata": {},
   "source": [
    "## Exercise\n",
    "\n",
    "Our representation of these ANN transformations can have an impact on computational efficiency. As you might guess, when we leverage matrix and vector arithmetic, our feedforward computations are much faster.\n",
    "\n",
    "Code up a simple multilayer network of your choice. Implement the feedfoward transformations with vector operations and then with explicit for-loop operations. Time how long it takes in each case to compute a forward pass for a set of input datapoints."
   ]
  },
  {
   "cell_type": "code",
   "execution_count": 15,
   "metadata": {},
   "outputs": [],
   "source": [
    "# here's some randomized input data\n",
    "num_samples=50\n",
    "x = np.random.uniform(low=(-5.0), high=5.0, size=2*num_samples).reshape(num_samples,2)"
   ]
  },
  {
   "cell_type": "code",
   "execution_count": 16,
   "metadata": {},
   "outputs": [],
   "source": [
    "###########################\n",
    "#Setting up dimensions of 2 Layer NN\n",
    "\n",
    "n_dims = 2\n",
    "n_hidden_units = 3\n",
    "\n",
    "# Settng up the weight parameters for Layer 1\n",
    "w_11, w_12, w_13, w_21, w_22, w_23 = np.random.random(n_dims * n_hidden_units)\n",
    "\n",
    "# Setting up weight parameters for Layer 2\n",
    "v_1,v_2,v_3 = np.random.random(n_hidden_units)\n",
    "\n",
    "# Random intializiation of the biases\n",
    "# Layer 1\n",
    "b_11,b_12,b_13 = np.random.random(n_hidden_units)\n",
    "b_1 = np.array([b_11,b_12,b_13])\n",
    "# Layer 2\n",
    "b_2 = np.random.random(1)\n",
    "\n",
    "# Restructing for ease of implementation\n",
    "w_1 = np.array([w_11,w_12,w_13])\n",
    "w_2 = np.array([w_21,w_22, w_23])\n",
    "#w_3 = np.array([w_31,w_32])\n",
    "\n",
    "w = np.array([w_1,w_2])\n",
    "v = np.array([v_1,v_2,v_3]) "
   ]
  },
  {
   "cell_type": "code",
   "execution_count": 17,
   "metadata": {},
   "outputs": [],
   "source": [
    "# Import time package\n",
    "import time"
   ]
  },
  {
   "cell_type": "code",
   "execution_count": 18,
   "metadata": {},
   "outputs": [
    {
     "name": "stdout",
     "output_type": "stream",
     "text": [
      "0.0005247592926025391\n"
     ]
    }
   ],
   "source": [
    "# Loop network\n",
    "loop_nw_start = time.time()\n",
    "feedforward_network_v2(x[:5,:], w, v, b_1, b_2)\n",
    "loop_nw_end = time.time()\n",
    "print(loop_nw_end - loop_nw_start)"
   ]
  },
  {
   "cell_type": "code",
   "execution_count": 19,
   "metadata": {},
   "outputs": [
    {
     "name": "stdout",
     "output_type": "stream",
     "text": [
      "0.00013685226440429688\n"
     ]
    }
   ],
   "source": [
    "# Vectorized network\n",
    "vt_nt_start = time.time()\n",
    "feedforward_network_v3(x[:5,:], w, v, b_1, b_2)\n",
    "vt_nt_end = time.time()\n",
    "print(vt_nt_end - vt_nt_start)"
   ]
  },
  {
   "cell_type": "code",
   "execution_count": 20,
   "metadata": {},
   "outputs": [
    {
     "name": "stdout",
     "output_type": "stream",
     "text": [
      "Vector-operation is faster than loop-operation by 3.8344947735191637 times\n"
     ]
    }
   ],
   "source": [
    "faster = (loop_nw_end - loop_nw_start)/(vt_nt_end - vt_nt_start)\n",
    "print(\"Vector-operation is faster than loop-operation by {0} times\".format(faster))"
   ]
  },
  {
   "cell_type": "markdown",
   "metadata": {},
   "source": [
    "### Exercise (Optional) - Deep Networks\n",
    "\n",
    "In our 2-layer MLP, the hidden layer was a little bit specialized because its inputs were datapoints X and its output went into predicting targets Y. But none of that *has* to be the case. In a more general form, a hidden layer's input could be the outputs of another hidden layer. And a hidden layer's outputs could go on to be the inputs for another hidden layer. This framework is a **deep neural network**. \n",
    "\n",
    "Extend our prevoius 2-layer MLP code into a 3-layer MLP. \n",
    "\n",
    "\n",
    "Use the same number of hidden nodes in both layers (3 is fine).\n",
    "Think about what additional weights you'll need: \n",
    " - another weight matrix? \n",
    " - another bias vector? "
   ]
  },
  {
   "cell_type": "code",
   "execution_count": 21,
   "metadata": {},
   "outputs": [],
   "source": [
    "def deep_feedforward_network(x, w1, w2, v, b_1, b_2, b_3):\n",
    "    h1 = sigmoid(np.dot(x, w1) + b_1)\n",
    "    h2 = sigmoid(np.dot(h1, w2) + b_2)\n",
    "    y = sigmoid(np.dot(h2, v) + b_3)\n",
    "    \n",
    "    return np.array(y)"
   ]
  },
  {
   "cell_type": "code",
   "execution_count": 22,
   "metadata": {},
   "outputs": [
    {
     "data": {
      "text/plain": [
       "array([ 0.88504394,  0.90398886,  0.87610845,  0.90083577,  0.90410627])"
      ]
     },
     "execution_count": 22,
     "metadata": {},
     "output_type": "execute_result"
    }
   ],
   "source": [
    "num_samples = 50\n",
    "x = np.random.uniform(low=(-5.0), high=5.0, size=2*num_samples).reshape(num_samples, 2)\n",
    "w1 = np.random.random(6).reshape(2,3)\n",
    "w2 = np.random.random(9).reshape(3,3)\n",
    "\n",
    "deep_feedforward_network(x[:5,:], w1, w2, v, b_1, b_2, b_2)"
   ]
  }
 ],
 "metadata": {
  "kernelspec": {
   "display_name": "Python 3",
   "language": "python",
   "name": "python3"
  },
  "language_info": {
   "codemirror_mode": {
    "name": "ipython",
    "version": 3
   },
   "file_extension": ".py",
   "mimetype": "text/x-python",
   "name": "python",
   "nbconvert_exporter": "python",
   "pygments_lexer": "ipython3",
   "version": "3.6.2"
  }
 },
 "nbformat": 4,
 "nbformat_minor": 2
}
